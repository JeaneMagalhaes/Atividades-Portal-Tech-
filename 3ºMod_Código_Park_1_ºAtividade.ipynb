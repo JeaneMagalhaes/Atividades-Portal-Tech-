{
  "nbformat": 4,
  "nbformat_minor": 0,
  "metadata": {
    "colab": {
      "provenance": [],
      "collapsed_sections": [],
      "authorship_tag": "ABX9TyMB/V8bllSkEIwDa/Ndjznf",
      "include_colab_link": true
    },
    "kernelspec": {
      "name": "python3",
      "display_name": "Python 3"
    },
    "language_info": {
      "name": "python"
    }
  },
  "cells": [
    {
      "cell_type": "markdown",
      "metadata": {
        "id": "view-in-github",
        "colab_type": "text"
      },
      "source": [
        "<a href=\"https://colab.research.google.com/github/JeaneMagalhaes/Atividades-Portal-Tech-/blob/main/3%C2%BAMod_C%C3%B3digo_Park_1_%C2%BAAtividade.ipynb\" target=\"_parent\"><img src=\"https://colab.research.google.com/assets/colab-badge.svg\" alt=\"Open In Colab\"/></a>"
      ]
    },
    {
      "cell_type": "markdown",
      "source": [
        "Aluna Jeane Magalhães \n",
        "\n",
        "*3ºMod. Código Park_1 ºAtividade _ Introdução a Programação *\n",
        "\n",
        "Faça uma função calculadora de dois números com três parâmetros: os dois primeiros serão os números da operação e o terceiro será a entrada que definirá a operação a ser executada. Considera a seguinte definição:\n",
        "1. Soma\n",
        "2. Subtração\n",
        "3. Multiplicação\n",
        "4. Divisão\n",
        "\n",
        "Caso seja inserido um número de operação que não exista, o resultado deverá ser 0.\n",
        "\n",
        "Trabalhe esse código em seu IDE, suba ele para sua conta no GitHub e compartilhe o link desse projeto no campo ao lado para que outros desenvolvedores possam analisá-lo."
      ],
      "metadata": {
        "id": "IJj_edgjlBGB"
      }
    },
    {
      "cell_type": "code",
      "source": [
        "def soma():\n",
        "    x = float(input(\"Primeiro numero: \"))\n",
        "    y = float(input(\"Segundo numero: \"))\n",
        "    print(\"Soma: \",x+y)\n",
        "\n",
        "def subtracao():\n",
        "    x = float(input(\"Primeiro numero: \"))\n",
        "    y = float(input(\"Segundo numero: \"))\n",
        "    print(\"Subtracao: \",x-y)\n",
        "\n",
        "def multiplicacao():\n",
        "    x = float(input(\"Primeiro numero: \"))\n",
        "    y = float(input(\"Segundo numero: \"))\n",
        "    print(\"Multiplicacao: \",x*y)\n",
        "\n",
        "def divisao():\n",
        "    x = float(input(\"Primeiro numero: \"))\n",
        "    y = float(input(\"Segundo numero: \"))\n",
        "    print(\"Divisao: \",x/y)\n",
        "\n",
        "opcao=1\n",
        "\n",
        "while opcao:\n",
        "    print(\"0. Encerrar\")\n",
        "    print(\"1. Somar\")\n",
        "    print(\"2. Subtrair\")\n",
        "    print(\"3. Multiplicar\")\n",
        "    print(\"4. Dividir \")\n",
        "\n",
        "    opcao = int(input(\"Opção: \"))\n",
        "\n",
        "    if(opcao==1):\n",
        "        soma()\n",
        "    if(opcao==2):\n",
        "        subtracao()\n",
        "    if(opcao==3):\n",
        "        multiplicacao()\n",
        "    if(opcao==4):\n",
        "        divisao()"
      ],
      "metadata": {
        "colab": {
          "base_uri": "https://localhost:8080/"
        },
        "id": "XFqF84bqjXRa",
        "outputId": "9c1412bb-c412-4ddc-a161-c00dc55d8968"
      },
      "execution_count": 63,
      "outputs": [
        {
          "name": "stdout",
          "output_type": "stream",
          "text": [
            "0. Encerrar\n",
            "1. Somar\n",
            "2. Subtrair\n",
            "3. Multiplicar\n",
            "4. Dividir \n",
            "Opção: 0\n"
          ]
        }
      ]
    }
  ]
}