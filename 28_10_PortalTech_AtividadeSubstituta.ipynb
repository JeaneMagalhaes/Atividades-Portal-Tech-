{
  "nbformat": 4,
  "nbformat_minor": 0,
  "metadata": {
    "colab": {
      "provenance": [],
      "authorship_tag": "ABX9TyO1Uait3Tpf8WZwMgO4nUuJ",
      "include_colab_link": true
    },
    "kernelspec": {
      "name": "python3",
      "display_name": "Python 3"
    },
    "language_info": {
      "name": "python"
    }
  },
  "cells": [
    {
      "cell_type": "markdown",
      "metadata": {
        "id": "view-in-github",
        "colab_type": "text"
      },
      "source": [
        "<a href=\"https://colab.research.google.com/github/JeaneMagalhaes/Atividades-Portal-Tech-/blob/main/28_10_PortalTech_AtividadeSubstituta.ipynb\" target=\"_parent\"><img src=\"https://colab.research.google.com/assets/colab-badge.svg\" alt=\"Open In Colab\"/></a>"
      ]
    },
    {
      "cell_type": "markdown",
      "source": [
        "Aluna: Jeane Magalhães \n",
        " \n",
        "Atividade Substituta do 2º Code Park de 28/10/22, enviado pelo Discord.\n",
        "\n",
        "Aprender a executar laços de repetição\n",
        "\n",
        "Precisamos imprimir um número para cada andar de um hotel de 20 andares. Porém, o dono do hotel é supersticioso e optou por não ter um 13ro andar. Escreva um código que imprima todos os números exceto o número 13. Escreva mais dois códigos que resolvam o mesmo problema, mas dessa vez usando os outros dois tipos de laços de repetição aprendidos. Como desafio, imprima eles em ordem decrescente (20, 19, 18...)"
      ],
      "metadata": {
        "id": "mtPSKgVBvWjl"
      }
    },
    {
      "cell_type": "code",
      "source": [
        "#Loop For _ Opção A\n",
        "\n",
        "for i in range(20,0,-1):\n",
        "  if(i == 13):\n",
        "    continue\n",
        "  print(\"Andar:\", i)"
      ],
      "metadata": {
        "colab": {
          "base_uri": "https://localhost:8080/"
        },
        "id": "saFP_SyWuXlP",
        "outputId": "6bf9dcd0-dd32-4e2a-e049-74b15137c01f"
      },
      "execution_count": 86,
      "outputs": [
        {
          "output_type": "stream",
          "name": "stdout",
          "text": [
            "Andar: 20\n",
            "Andar: 19\n",
            "Andar: 18\n",
            "Andar: 17\n",
            "Andar: 16\n",
            "Andar: 15\n",
            "Andar: 14\n",
            "Andar: 12\n",
            "Andar: 11\n",
            "Andar: 10\n",
            "Andar: 9\n",
            "Andar: 8\n",
            "Andar: 7\n",
            "Andar: 6\n",
            "Andar: 5\n",
            "Andar: 4\n",
            "Andar: 3\n",
            "Andar: 2\n",
            "Andar: 1\n"
          ]
        }
      ]
    },
    {
      "cell_type": "code",
      "source": [
        "#Loop For _ Opção B\n",
        "\n",
        "for i in range(1,21,+1):\n",
        "  if(i == 13):\n",
        "    continue\n",
        "  print(\"Andar:\", i)"
      ],
      "metadata": {
        "colab": {
          "base_uri": "https://localhost:8080/"
        },
        "id": "n9ODSvb9wAWK",
        "outputId": "62bd5d4a-6907-403e-c4f0-26c4b9ad2048"
      },
      "execution_count": 85,
      "outputs": [
        {
          "output_type": "stream",
          "name": "stdout",
          "text": [
            "Andar: 1\n",
            "Andar: 2\n",
            "Andar: 3\n",
            "Andar: 4\n",
            "Andar: 5\n",
            "Andar: 6\n",
            "Andar: 7\n",
            "Andar: 8\n",
            "Andar: 9\n",
            "Andar: 10\n",
            "Andar: 11\n",
            "Andar: 12\n",
            "Andar: 14\n",
            "Andar: 15\n",
            "Andar: 16\n",
            "Andar: 17\n",
            "Andar: 18\n",
            "Andar: 19\n",
            "Andar: 20\n"
          ]
        }
      ]
    },
    {
      "cell_type": "code",
      "execution_count": 84,
      "metadata": {
        "colab": {
          "base_uri": "https://localhost:8080/"
        },
        "id": "5t5EUI7CP7mc",
        "outputId": "d2df617c-6953-469d-b064-fdd955e9f2cc"
      },
      "outputs": [
        {
          "output_type": "stream",
          "name": "stdout",
          "text": [
            "Andar: 20\n",
            "Andar: 19\n",
            "Andar: 18\n",
            "Andar: 17\n",
            "Andar: 16\n",
            "Andar: 15\n",
            "Andar: 14\n",
            "Andar: 12\n",
            "Andar: 11\n",
            "Andar: 10\n",
            "Andar: 9\n",
            "Andar: 8\n",
            "Andar: 7\n",
            "Andar: 6\n",
            "Andar: 5\n",
            "Andar: 4\n",
            "Andar: 3\n",
            "Andar: 2\n",
            "Andar: 1\n"
          ]
        }
      ],
      "source": [
        "#Loop while _ Opção C\n",
        "\n",
        "i=21\n",
        "while (i>1):\n",
        "  i-=1\n",
        "  if(i == 13):\n",
        "    continue\n",
        "  print ('Andar:', i)"
      ]
    }
  ]
}