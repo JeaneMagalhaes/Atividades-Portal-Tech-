{
  "nbformat": 4,
  "nbformat_minor": 0,
  "metadata": {
    "colab": {
      "provenance": [],
      "collapsed_sections": [],
      "authorship_tag": "ABX9TyO9C0KZVWBxCLVUZbVTFgee",
      "include_colab_link": true
    },
    "kernelspec": {
      "name": "python3",
      "display_name": "Python 3"
    },
    "language_info": {
      "name": "python"
    }
  },
  "cells": [
    {
      "cell_type": "markdown",
      "metadata": {
        "id": "view-in-github",
        "colab_type": "text"
      },
      "source": [
        "<a href=\"https://colab.research.google.com/github/JeaneMagalhaes/Atividades-Portal-Tech-/blob/main/3%C2%BAMod_C%C3%B3digo_Park_3%C2%BAAtividade.ipynb\" target=\"_parent\"><img src=\"https://colab.research.google.com/assets/colab-badge.svg\" alt=\"Open In Colab\"/></a>"
      ]
    },
    {
      "cell_type": "markdown",
      "source": [
        "Aluna Jeane Magalhães\n",
        "\n",
        "3ºMod. Código Park_3 ºAtividade_Introdução a Programação\n",
        "\n",
        "Desenvolva um programa que recebe do usuário nome completo e ano de nascimento que seja entre 1922 e 2021.\n",
        "A partir dessas informações, o sistema mostrará o nome do usuário e a idade que completou, ou completará, no ano atual (2022).\n",
        " \n",
        "Caso o usuário não digite um número ou apareça um inválido no campo do ano, o sistema informará o erro e continuará perguntando até que um valor correto seja preenchido.\n",
        " \n",
        "Trabalhe esse código em seu IDE, suba ele para sua conta no GitHub e compartilhe o link desse projeto no campo ao lado para que outros desenvolvedores possam analisá-lo.\n"
      ],
      "metadata": {
        "id": "XZKVnLGiaRlV"
      }
    },
    {
      "cell_type": "code",
      "source": [
        "#Opção A:\n",
        "#Com tratamento de erro\n",
        "#Sem perguntar ano atual \n",
        "\n",
        "ano_correto = False\n",
        "\n",
        "while ano_correto == False:\n",
        "  try:\n",
        "    nome = input(\"Informe seu Nome e Sobrebome: \")\n",
        "    ano_nascimento = int(input(\"Informe o ano de nascimento (Ex: 2000):\"))\n",
        "    if(ano_nascimento >= 1922)& (ano_nascimento <= 2021):\n",
        "      idade = 2022 - ano_nascimento\n",
        "      ano_correto = True\n",
        "      print(\"🟰\" ,nome,\"possui ou completará em 2022:\", idade, \"anos.🥳\")\n",
        "    else:  \n",
        "      raise Exception(\"Tente novamente: Caracter inválido\")\n",
        "  except:\n",
        "    print(\"Tente novamente: Caracter inválido\")"
      ],
      "metadata": {
        "colab": {
          "base_uri": "https://localhost:8080/"
        },
        "id": "XM0euulFJhxE",
        "outputId": "3c6813c8-8ee1-4379-f906-944a3c80dc14"
      },
      "execution_count": 2,
      "outputs": [
        {
          "output_type": "stream",
          "name": "stdout",
          "text": [
            "Informe seu Nome e Sobrebome: Jeane Magalhães \n",
            "Informe o ano de nascimento (Ex: 2000):1987\n",
            "🟰 Jeane Magalhães  possui ou completará em 2022: 35 anos.🥳\n"
          ]
        }
      ]
    },
    {
      "cell_type": "code",
      "source": [
        "# Opção B:\n",
        "#simples e sem pergunta de ano atual \n",
        "\n",
        "Nome = str(input(\"Informe seu Nome e Sobrebome:\"))\n",
        "anonasc = int(input(\"Informe o ano de nascimento (Ex: 2000):\"))\n",
        "print(\"🟰Em 2022\", Nome,\"possui ou completará\",2022-anonasc,\"anos!🥳\")"
      ],
      "metadata": {
        "colab": {
          "base_uri": "https://localhost:8080/"
        },
        "id": "e_6o_JfNWEYF",
        "outputId": "ac6ee3df-e350-4dd2-9cf6-ea189ee8f0b6"
      },
      "execution_count": 3,
      "outputs": [
        {
          "output_type": "stream",
          "name": "stdout",
          "text": [
            "Informe seu Nome e Sobrebome:Jeane Magalhães \n",
            "Informe o ano de nascimento (Ex: 2000):1987\n",
            "🟰Em 2022 Jeane Magalhães  possui ou completará 35 anos!🥳\n"
          ]
        }
      ]
    },
    {
      "cell_type": "code",
      "source": [
        "#Opção C:\n",
        "#simples e com pergunta de ano atual \n",
        "\n",
        "Nome = str(input(\"Informe seu Nome e Sobrebome:\"))\n",
        "anoatual = int(input(\"Informe o ano atual (Ex: 2000):\"))\n",
        "anonasc = int(input(\"Informe o ano de nascimento (Ex: 2000):\"))\n",
        "print(\"🟰Em\", anoatual, Nome,\"possui ou completará\",anoatual-anonasc,\"anos!🥳\")"
      ],
      "metadata": {
        "id": "nagUU4UiaY2g",
        "colab": {
          "base_uri": "https://localhost:8080/"
        },
        "outputId": "daeaefc7-49c3-4683-d6e4-179709b11e31"
      },
      "execution_count": 4,
      "outputs": [
        {
          "output_type": "stream",
          "name": "stdout",
          "text": [
            "Informe seu Nome e Sobrebome:Jeane Magalhães \n",
            "Informe o ano atual (Ex: 2000):2022\n",
            "Informe o ano de nascimento (Ex: 2000):1987\n",
            "🟰Em 2022 Jeane Magalhães  possui ou completará 35 anos!🥳\n"
          ]
        }
      ]
    }
  ]
}