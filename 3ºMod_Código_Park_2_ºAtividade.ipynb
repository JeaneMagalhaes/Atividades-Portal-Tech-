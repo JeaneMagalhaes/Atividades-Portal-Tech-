{
  "nbformat": 4,
  "nbformat_minor": 0,
  "metadata": {
    "colab": {
      "provenance": [],
      "authorship_tag": "ABX9TyNQ9PWzN4h/d/NRW7uXfCDU",
      "include_colab_link": true
    },
    "kernelspec": {
      "name": "python3",
      "display_name": "Python 3"
    },
    "language_info": {
      "name": "python"
    }
  },
  "cells": [
    {
      "cell_type": "markdown",
      "metadata": {
        "id": "view-in-github",
        "colab_type": "text"
      },
      "source": [
        "<a href=\"https://colab.research.google.com/github/JeaneMagalhaes/Atividades-Portal-Tech-/blob/main/3%C2%BAMod_C%C3%B3digo_Park_2_%C2%BAAtividade.ipynb\" target=\"_parent\"><img src=\"https://colab.research.google.com/assets/colab-badge.svg\" alt=\"Open In Colab\"/></a>"
      ]
    },
    {
      "cell_type": "markdown",
      "source": [
        "Aluna Jeane Magalhães \n",
        "\n",
        "3ºMod. Código Park_2 ºAtividade_Introdução a Programação \n",
        "\n",
        "Faça uma função calculadora que os números e as operações serão feitas pelo usuário. O código deve ficar rodando infinitamente até que o usuário escolha a opção de sair. No início, o programa mostrará a seguinte lista de operações:\n",
        "\n",
        "1: Soma\n",
        "2: Subtração\n",
        "3: Multiplicação\n",
        "4: Divisão\n",
        "0: Sair\n",
        "\n",
        "Digite o número para a operação correspondente e caso o usuário introduza qualquer outro, o sistema deve mostrar a mensagem “Essa opção não existe” e voltar ao menu de opções.\n",
        "\n",
        "Após a seleção, o sistema deve pedir para o usuário inserir o primeiro e segundo valor, um de cada. Depois precisa executar a operação e mostrar o resultado na tela. Quando o usuário escolher a opção “Sair”, o sistema irá parar.\n",
        "\n",
        "É necessário que o sistema mostre as opções sempre que finalizar uma operação e mostrar o resultado. \n",
        "\n",
        "Trabalhe esse código em seu IDE, suba ele para sua conta no GitHub e compartilhe o link desse projeto no campo ao lado para que outros desenvolvedores possam analisá-lo."
      ],
      "metadata": {
        "id": "zUoaRv55ELAl"
      }
    },
    {
      "cell_type": "code",
      "execution_count": null,
      "metadata": {
        "colab": {
          "base_uri": "https://localhost:8080/"
        },
        "id": "65FxVQ9YD9dT",
        "outputId": "012c9c4e-a4c7-4d96-d850-f95114bede18"
      },
      "outputs": [
        {
          "output_type": "stream",
          "name": "stdout",
          "text": [
            "0. ⏹️ Sair\n",
            "1. ➕ Soma\n",
            "2. ➖ Subtração\n",
            "3. ✖️ Multiplicação\n",
            "4. ➗ Divisão \n",
            "Opção: 0\n",
            "🚫 Tente novamente\n"
          ]
        }
      ],
      "source": [
        "#Opção Elif\n",
        "\n",
        "def soma():\n",
        "    x = float(input(\"Primeiro numero: \"))\n",
        "    y = float(input(\"Segundo numero: \"))\n",
        "    print(\"Soma: \",x+y)\n",
        "\n",
        "def subtracao():\n",
        "    x = float(input(\"Primeiro numero: \"))\n",
        "    y = float(input(\"Segundo numero: \"))\n",
        "    print(\"Subtracao: \",x-y)\n",
        "\n",
        "def multiplicacao():\n",
        "    x = float(input(\"Primeiro numero: \"))\n",
        "    y = float(input(\"Segundo numero: \"))\n",
        "    print(\"Multiplicacao: \",x*y)\n",
        "\n",
        "def divisao():\n",
        "    x = float(input(\"Primeiro numero: \"))\n",
        "    y = float(input(\"Segundo numero: \"))\n",
        "    print(\"Divisao: \",x/y)\n",
        "\n",
        "opcao=1\n",
        "\n",
        "while opcao:\n",
        "    print(\"0. ⏹️ Sair\")\n",
        "    print(\"1. ➕ Soma\")\n",
        "    print(\"2. ➖ Subtração\")\n",
        "    print(\"3. ✖️ Multiplicação\")\n",
        "    print(\"4. ➗ Divisão \")\n",
        "    \n",
        "    opcao = int(input(\"Opção: \"))\n",
        "\n",
        "    if(opcao==1):\n",
        "        soma()\n",
        "    if(opcao==2):\n",
        "        subtracao()\n",
        "    if(opcao==3):\n",
        "        multiplicacao()\n",
        "    if(opcao==4):\n",
        "        divisao()\n",
        "    elif (opcao==1,2,3,4):\n",
        "        print(\"🚫 Tente novamente\")"
      ]
    },
    {
      "cell_type": "code",
      "source": [
        "#Opção Else\n",
        "\n",
        "def soma():\n",
        "    x = float(input(\"Primeiro numero: \"))\n",
        "    y = float(input(\"Segundo numero: \"))\n",
        "    print(\"Soma: \",x+y)\n",
        "\n",
        "def subtracao():\n",
        "    x = float(input(\"Primeiro numero: \"))\n",
        "    y = float(input(\"Segundo numero: \"))\n",
        "    print(\"Subtracao: \",x-y)\n",
        "\n",
        "def multiplicacao():\n",
        "    x = float(input(\"Primeiro numero: \"))\n",
        "    y = float(input(\"Segundo numero: \"))\n",
        "    print(\"Multiplicacao: \",x*y)\n",
        "\n",
        "def divisao():\n",
        "    x = float(input(\"Primeiro numero: \"))\n",
        "    y = float(input(\"Segundo numero: \"))\n",
        "    print(\"Divisao: \",x/y)\n",
        "\n",
        "opcao=1\n",
        "\n",
        "while opcao:\n",
        "    print(\"0. ⏹️ Sair\")\n",
        "    print(\"1. ➕ Soma\")\n",
        "    print(\"2. ➖ Subtração\")\n",
        "    print(\"3. ✖️ Multiplicação\")\n",
        "    print(\"4. ➗ Divisão \")\n",
        "    \n",
        "    opcao = int(input(\"Opção: \"))\n",
        "\n",
        "    if(opcao==1): soma()\n",
        "    if(opcao==2): subtracao()\n",
        "    if(opcao==3): multiplicacao()\n",
        "    if(opcao==4): divisao()\n",
        "    else: print(\"🚫 Tente novamente\")\n"
      ],
      "metadata": {
        "colab": {
          "base_uri": "https://localhost:8080/"
        },
        "id": "l0byQjy2NBWE",
        "outputId": "fc7c3837-dbcb-4119-8fe2-85032494f2b6"
      },
      "execution_count": null,
      "outputs": [
        {
          "output_type": "stream",
          "name": "stdout",
          "text": [
            "0. ⏹️ Sair\n",
            "1. ➕ Soma\n",
            "2. ➖ Subtração\n",
            "3. ✖️ Multiplicação\n",
            "4. ➗ Divisão \n",
            "Opção: 0\n",
            "🚫 Tente novamente\n"
          ]
        }
      ]
    }
  ]
}